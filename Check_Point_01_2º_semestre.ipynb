{
  "nbformat": 4,
  "nbformat_minor": 5,
  "metadata": {
    "kernelspec": {
      "display_name": "Python 3",
      "language": "python",
      "name": "python3"
    },
    "language_info": {
      "codemirror_mode": {
        "name": "ipython",
        "version": 3
      },
      "file_extension": ".py",
      "mimetype": "text/x-python",
      "name": "python",
      "nbconvert_exporter": "python",
      "pygments_lexer": "ipython3",
      "version": "3.6.7"
    },
    "colab": {
      "name": "Check Point 01 - 2º semestre.ipynb",
      "provenance": [],
      "collapsed_sections": [],
      "include_colab_link": true
    }
  },
  "cells": [
    {
      "cell_type": "markdown",
      "metadata": {
        "id": "view-in-github",
        "colab_type": "text"
      },
      "source": [
        "<a href=\"https://colab.research.google.com/github/JuanCarlosBS/s2-cp1-iot/blob/main/Check_Point_01_2%C2%BA_semestre.ipynb\" target=\"_parent\"><img src=\"https://colab.research.google.com/assets/colab-badge.svg\" alt=\"Open In Colab\"/></a>"
      ]
    },
    {
      "cell_type": "markdown",
      "metadata": {
        "id": "9ada5eb9"
      },
      "source": [
        "# Checkpoint 01 - 2º semestre\n",
        "Objetivo: manipulação de dicionários e gráficos"
      ],
      "id": "9ada5eb9"
    },
    {
      "cell_type": "markdown",
      "metadata": {
        "id": "39daaf86"
      },
      "source": [
        "# Nomes e RMs\n",
        "##digite aqui\n"
      ],
      "id": "39daaf86"
    },
    {
      "cell_type": "markdown",
      "metadata": {
        "id": "82cf1d56"
      },
      "source": [
        "# Problema:\n",
        "Um investidor aportou R$500 mil em uma start-up para cobrir os custos iniciais da empresa.\n",
        "Um dicionário de dados foi importado para o Python contendo o histórico financeiro do primeiro ano do empreendimento."
      ],
      "id": "82cf1d56"
    },
    {
      "cell_type": "code",
      "metadata": {
        "id": "eb7d19a4"
      },
      "source": [
        "dados_empresa = {\n",
        "    'empresa' : \"CyberCapivaras\",\n",
        "    'ano' : 2020,\n",
        "    'financeiro': {\n",
        "                    'capital_aportado' : 500000.00,\n",
        "                    'faturamento_mensal' : [0,0,0,10000,20000,25000,50000,90000,100000,90000,100000,100000],\n",
        "                    'despesa_mensal':[30000,35000,55000,30000,20000, 20000,30000, 30000, 40000, 60000,30000,30000]\n",
        "                   },\n",
        "    'carteira_clientes' : [0,0,0,10,14,19,21,36,38,38,38,38]\n",
        "}"
      ],
      "id": "eb7d19a4",
      "execution_count": 3,
      "outputs": []
    },
    {
      "cell_type": "markdown",
      "metadata": {
        "id": "c8c0a8e3"
      },
      "source": [
        "# Entendendo o dicionário"
      ],
      "id": "c8c0a8e3"
    },
    {
      "cell_type": "code",
      "metadata": {
        "id": "814d9981"
      },
      "source": [
        "##-faturamento_mensal mostra o quanto a empresa faturou mês a mês (de janeiro à dezembro)\n",
        "##-despesa_mensal mostra o quanto a empresa gastou para cobrir os custos mensalmente (janeiro à dezembro\n",
        "##-carteira_clientes mostra a quantidade de clientes obtidos ao longo dos meses (janeiro à dezembro)"
      ],
      "id": "814d9981",
      "execution_count": null,
      "outputs": []
    },
    {
      "cell_type": "markdown",
      "metadata": {
        "id": "6b20afd9"
      },
      "source": [
        "\n",
        "\n",
        "# Desafio do seu grupo:"
      ],
      "id": "6b20afd9"
    },
    {
      "cell_type": "code",
      "metadata": {
        "id": "ea586888",
        "outputId": "7d712fc1-8724-4e2a-a670-4a4913e7dc52"
      },
      "source": [
        "'''\n",
        "1) Crie um gráfico do faturamento mensal da empresa ao longo de 2020\n",
        "'''"
      ],
      "id": "ea586888",
      "execution_count": null,
      "outputs": [
        {
          "data": {
            "text/plain": [
              "'\\n1) Crie um gráfico do faturamento mensal da empresa ao longo de 2020\\n'"
            ]
          },
          "execution_count": 3,
          "metadata": {},
          "output_type": "execute_result"
        }
      ]
    },
    {
      "cell_type": "code",
      "metadata": {
        "colab": {
          "base_uri": "https://localhost:8080/",
          "height": 283
        },
        "id": "0c6eab25",
        "outputId": "2a8ee17d-0fa5-4492-d144-5f65868c959c"
      },
      "source": [
        "#resposta:\n",
        "import matplotlib.pyplot as plt\n",
        "\n",
        "\n",
        "plt.plot([1,2,3,4,5,6,7,8,9,10,11,12], dados_empresa['financeiro']['faturamento_mensal'], '-go')\n",
        "\n",
        "plt.axis((1,12,0,110000))"
      ],
      "id": "0c6eab25",
      "execution_count": 8,
      "outputs": [
        {
          "output_type": "execute_result",
          "data": {
            "text/plain": [
              "(1.0, 12.0, 0.0, 110000.0)"
            ]
          },
          "metadata": {},
          "execution_count": 8
        },
        {
          "output_type": "display_data",
          "data": {
            "image/png": "[encoded data removed]",
            "text/plain": [
              "<Figure size 432x288 with 1 Axes>"
            ]
          },
          "metadata": {
            "needs_background": "light"
          }
        }
      ]
    },
    {
      "cell_type": "code",
      "metadata": {
        "id": "a271791a",
        "outputId": "42e8d4ee-9164-4f49-f720-ed9d440c3782"
      },
      "source": [
        "'''\n",
        "2) Crie um gráfico das despesas mensais da empresa ao longo de 2020\n",
        "'''"
      ],
      "id": "a271791a",
      "execution_count": null,
      "outputs": [
        {
          "data": {
            "text/plain": [
              "'\\n2) Crie um gráfico das despesas mensais da empresa ao longo de 2020\\n'"
            ]
          },
          "execution_count": 5,
          "metadata": {},
          "output_type": "execute_result"
        }
      ]
    },
    {
      "cell_type": "code",
      "metadata": {
        "colab": {
          "base_uri": "https://localhost:8080/",
          "height": 287
        },
        "id": "b7f375d8",
        "outputId": "a717ce02-d4aa-4682-9bd5-d5a37cdc7b68"
      },
      "source": [
        "#resposta:\n",
        "import matplotlib.pyplot as plt\n",
        "\n",
        "\n",
        "plt.plot([1,2,3,4,5,6,7,8,9,10,11,12], dados_empresa['financeiro']['despesa_mensal'], '-go')\n",
        "\n",
        "plt.axis((1,12,0,80000))"
      ],
      "id": "b7f375d8",
      "execution_count": 9,
      "outputs": [
        {
          "output_type": "execute_result",
          "data": {
            "text/plain": [
              "(1.0, 12.0, 0.0, 80000.0)"
            ]
          },
          "metadata": {},
          "execution_count": 9
        },
        {
          "output_type": "display_data",
          "data": {
            "image/png": "[encoded data removed]",
            "text/plain": [
              "<Figure size 432x288 with 1 Axes>"
            ]
          },
          "metadata": {
            "needs_background": "light"
          }
        }
      ]
    },
    {
      "cell_type": "code",
      "metadata": {
        "id": "4c1e0886",
        "outputId": "80efee3a-b46a-4a16-dbe2-882236257708"
      },
      "source": [
        "'''\n",
        "3) Crie um gráfico da quantidade de clientes da empresa ao longo de 2020\n",
        "'''"
      ],
      "id": "4c1e0886",
      "execution_count": null,
      "outputs": [
        {
          "data": {
            "text/plain": [
              "'\\n3) Crie um gráfico da quantidade de clientes da empresa ao longo de 2020\\n'"
            ]
          },
          "execution_count": 7,
          "metadata": {},
          "output_type": "execute_result"
        }
      ]
    },
    {
      "cell_type": "code",
      "metadata": {
        "colab": {
          "base_uri": "https://localhost:8080/",
          "height": 287
        },
        "id": "02b35c5a",
        "outputId": "3f4c1a73-fdb8-4e66-f407-6c55dd6cbc03"
      },
      "source": [
        "#resposta:\n",
        "import matplotlib.pyplot as plt\n",
        "\n",
        "\n",
        "plt.plot([1,2,3,4,5,6,7,8,9,10,11,12], dados_empresa['carteira_clientes'], '-go')\n",
        "\n",
        "plt.axis((1,12,0,60))\n"
      ],
      "id": "02b35c5a",
      "execution_count": 12,
      "outputs": [
        {
          "output_type": "execute_result",
          "data": {
            "text/plain": [
              "(1.0, 12.0, 0.0, 60.0)"
            ]
          },
          "metadata": {},
          "execution_count": 12
        },
        {
          "output_type": "display_data",
          "data": {
            "image/png": "[encoded data removed]",
            "text/plain": [
              "<Figure size 432x288 with 1 Axes>"
            ]
          },
          "metadata": {
            "needs_background": "light"
          }
        }
      ]
    },
    {
      "cell_type": "code",
      "metadata": {
        "id": "61de873a",
        "outputId": "1e201525-74eb-4704-cdce-0aebdb7e7e0f"
      },
      "source": [
        "'''\n",
        "4) Crie um gráfico do lucro ou prejuízo da empresa ao longo de 2020\n",
        "'''"
      ],
      "id": "61de873a",
      "execution_count": null,
      "outputs": [
        {
          "data": {
            "text/plain": [
              "'\\n4) Crie um gráfico do lucro ou prejuízo da empresa ao longo de 2020\\n'"
            ]
          },
          "execution_count": 9,
          "metadata": {},
          "output_type": "execute_result"
        }
      ]
    },
    {
      "cell_type": "code",
      "metadata": {
        "id": "a8368d43"
      },
      "source": [
        "#resposta:\n",
        "\n",
        "def calcProfit(billing, expenses) :\n",
        "  return billing - expenses\n",
        "\n",
        "profit = map(calcProfit, dados_empresa['financeiro']['faturamento_mensal'], dados_empresa['financeiro']['despesa_mensal'])\n",
        "\n",
        "plt.plot([1,2,3,4,5,6,7,8,9,10,11,12], list(profit), '-go')\n",
        "\n",
        "plt.axis((1,12,-60000,80000))"
      ],
      "id": "a8368d43",
      "execution_count": null,
      "outputs": []
    },
    {
      "cell_type": "code",
      "metadata": {
        "id": "67239627",
        "outputId": "ea2f82a5-ea1b-4480-9eb6-749eb59439f6"
      },
      "source": [
        "'''\n",
        "5) Crie um gráfico do lucro gerado por cliente ao longo de 2020\n",
        "'''"
      ],
      "id": "67239627",
      "execution_count": null,
      "outputs": [
        {
          "data": {
            "text/plain": [
              "'\\n5) Crie um gráfico do lucro gerado por cliente ao longo de 2020\\n'"
            ]
          },
          "execution_count": 11,
          "metadata": {},
          "output_type": "execute_result"
        }
      ]
    },
    {
      "cell_type": "code",
      "metadata": {
        "colab": {
          "base_uri": "https://localhost:8080/",
          "height": 287
        },
        "id": "33225c42",
        "outputId": "5e21b71e-23e6-44d1-f4d4-e501f25c2f0f"
      },
      "source": [
        "#resposta:\n",
        "\n",
        "def calcProfitPerUser(billing, expenses, clients) :\n",
        "  if (clients != 0 ):\n",
        "    return (billing - expenses) / clients\n",
        "  return 0\n",
        "\n",
        "profitPerUser = map(calcProfitPerUser, dados_empresa['financeiro']['faturamento_mensal'], dados_empresa['financeiro']['despesa_mensal'],dados_empresa['carteira_clientes'])\n",
        "\n",
        "\n",
        "plt.plot([1,2,3,4,5,6,7,8,9,10,11,12], list(profitPerUser), '-go')\n",
        "\n",
        "plt.axis((1,12,-5000, 10000))"
      ],
      "id": "33225c42",
      "execution_count": 44,
      "outputs": [
        {
          "output_type": "execute_result",
          "data": {
            "text/plain": [
              "(1.0, 12.0, -5000.0, 10000.0)"
            ]
          },
          "metadata": {},
          "execution_count": 44
        },
        {
          "output_type": "display_data",
          "data": {
            "image/png": "[encoded data removed]",
            "text/plain": [
              "<Figure size 432x288 with 1 Axes>"
            ]
          },
          "metadata": {
            "needs_background": "light"
          }
        }
      ]
    },
    {
      "cell_type": "code",
      "metadata": {
        "id": "56babac0",
        "outputId": "d375a526-ca6f-4ed9-c628-bdb59fb6d8b4"
      },
      "source": [
        "'''\n",
        "6) Dos R$500 mil aportados pelo investidor, restou algum valor no final \n",
        " de 2020? Justifique mostrando o cálculo através\n",
        " do seu código Python\n",
        "'''"
      ],
      "id": "56babac0",
      "execution_count": null,
      "outputs": [
        {
          "data": {
            "text/plain": [
              "'\\n6) Dos R$500 mil aportados pelo investidor, restou algum valor no final \\n de 2020? Justifique mostrando o cálculo através\\n do seu código Python\\n'"
            ]
          },
          "execution_count": 13,
          "metadata": {},
          "output_type": "execute_result"
        }
      ]
    },
    {
      "cell_type": "code",
      "metadata": {
        "colab": {
          "base_uri": "https://localhost:8080/"
        },
        "id": "76488797",
        "outputId": "5d410798-0ed0-416c-e859-238bbd350d54"
      },
      "source": [
        "#resposta:\n",
        "leftOver = dados_empresa['financeiro']['capital_aportado'] - sum(list(dados_empresa['financeiro']['despesa_mensal']))\n",
        "\n",
        "print(leftOver)"
      ],
      "id": "76488797",
      "execution_count": 23,
      "outputs": [
        {
          "output_type": "stream",
          "name": "stdout",
          "text": [
            "90000.0\n"
          ]
        }
      ]
    },
    {
      "cell_type": "code",
      "metadata": {
        "id": "67fde38b",
        "outputId": "fb2f1c0b-3211-49be-d98e-310afdafd263"
      },
      "source": [
        "'''\n",
        "7) Qual o lucro/prejuízo total da empresa (sem contar com o aporte de R$500 mil) em 2020? Justifique mostrando o \n",
        "cálculo através do Python\n",
        "'''"
      ],
      "id": "67fde38b",
      "execution_count": null,
      "outputs": [
        {
          "data": {
            "text/plain": [
              "'\\n7) Qual o lucro/prejuízo total da empresa (sem contar com o aporte de R$500 mil) em 2020? Justifique mostrando o \\ncálculo através do Python\\n'"
            ]
          },
          "execution_count": 15,
          "metadata": {},
          "output_type": "execute_result"
        }
      ]
    },
    {
      "cell_type": "code",
      "metadata": {
        "colab": {
          "base_uri": "https://localhost:8080/"
        },
        "id": "77c29c5b",
        "outputId": "f2881596-20b7-4af8-c455-5273ca29070c"
      },
      "source": [
        "#resposta:\n",
        "\n",
        "def calcProfit(billing, expenses) :\n",
        "  return billing - expenses\n",
        "\n",
        "profit = map(calcProfit, dados_empresa['financeiro']['faturamento_mensal'], dados_empresa['financeiro']['despesa_mensal'])\n",
        "\n",
        "print(sum(list(profit)))"
      ],
      "id": "77c29c5b",
      "execution_count": 47,
      "outputs": [
        {
          "output_type": "stream",
          "name": "stdout",
          "text": [
            "175000\n"
          ]
        }
      ]
    },
    {
      "cell_type": "code",
      "metadata": {
        "id": "16bdf4dd",
        "outputId": "79304f02-9062-4bb6-961c-c31a5a7d6995"
      },
      "source": [
        "'''\n",
        "8) Qual a média de faturamento ao longo de 2020? Justifique mostrando o cálculo através do Python\n",
        "'''"
      ],
      "id": "16bdf4dd",
      "execution_count": null,
      "outputs": [
        {
          "data": {
            "text/plain": [
              "'\\n8) Qual a média de faturamento ao longo de 2020? Justifique mostrando o cálculo através do Python\\n'"
            ]
          },
          "execution_count": 17,
          "metadata": {},
          "output_type": "execute_result"
        }
      ]
    },
    {
      "cell_type": "code",
      "metadata": {
        "colab": {
          "base_uri": "https://localhost:8080/"
        },
        "id": "efadfdf7",
        "outputId": "a0f06066-dab2-44d2-e968-c1593b15d7e2"
      },
      "source": [
        "#resposta:\n",
        "monthsLenght = len(dados_empresa['financeiro']['faturamento_mensal'])\n",
        "\n",
        "sumProfit = sum(dados_empresa['financeiro']['faturamento_mensal'])\n",
        "\n",
        "print(sumProfit / monthsLenght)"
      ],
      "id": "efadfdf7",
      "execution_count": 50,
      "outputs": [
        {
          "output_type": "stream",
          "name": "stdout",
          "text": [
            "12\n",
            "585000\n",
            "48750.0\n"
          ]
        }
      ]
    },
    {
      "cell_type": "code",
      "metadata": {
        "id": "8a4803ef",
        "outputId": "2c7dbd40-a497-43f0-b7c7-35017a9e6e27"
      },
      "source": [
        "'''\n",
        "9) Qual mês ou meses tiveram o MAIOR faturamento? Justifique mostrando o cálculo através do Python\n",
        "'''"
      ],
      "id": "8a4803ef",
      "execution_count": null,
      "outputs": [
        {
          "data": {
            "text/plain": [
              "'\\n9) Qual mês ou meses tiveram o MAIOR faturamento? Justifique mostrando o cálculo através do Python\\n'"
            ]
          },
          "execution_count": 19,
          "metadata": {},
          "output_type": "execute_result"
        }
      ]
    },
    {
      "cell_type": "code",
      "metadata": {
        "colab": {
          "base_uri": "https://localhost:8080/"
        },
        "id": "420217b7",
        "outputId": "e2af902e-0aca-43a5-deb3-2bec5ded5779"
      },
      "source": [
        "#resposta:\n",
        "print(max(dados_empresa['financeiro']['faturamento_mensal']))"
      ],
      "id": "420217b7",
      "execution_count": 51,
      "outputs": [
        {
          "output_type": "stream",
          "name": "stdout",
          "text": [
            "100000\n"
          ]
        }
      ]
    },
    {
      "cell_type": "code",
      "metadata": {
        "id": "87f2e7d4",
        "outputId": "ed9d4576-388a-4334-e246-fa2dbea10e21"
      },
      "source": [
        "'''\n",
        "10) Qual mês ou meses tiveram a MENOR despesa? Justifique mostrando o cálculo através do Python\n",
        "'''"
      ],
      "id": "87f2e7d4",
      "execution_count": null,
      "outputs": [
        {
          "data": {
            "text/plain": [
              "'\\n10) Qual mês ou meses tiveram a MENOR despesa? Justifique mostrando o cálculo através do Python\\n'"
            ]
          },
          "execution_count": 21,
          "metadata": {},
          "output_type": "execute_result"
        }
      ]
    },
    {
      "cell_type": "code",
      "metadata": {
        "colab": {
          "base_uri": "https://localhost:8080/"
        },
        "id": "9d248182",
        "outputId": "08ce785d-2a48-400f-f7ed-86e1c6119b47"
      },
      "source": [
        "#resposta:\n",
        "print((min(dados_empresa['financeiro']['despesa_mensal'])))"
      ],
      "id": "9d248182",
      "execution_count": 53,
      "outputs": [
        {
          "output_type": "stream",
          "name": "stdout",
          "text": [
            "20000\n"
          ]
        }
      ]
    },
    {
      "cell_type": "code",
      "metadata": {
        "id": "34a0e491"
      },
      "source": [
        ""
      ],
      "id": "34a0e491",
      "execution_count": null,
      "outputs": []
    },
    {
      "cell_type": "code",
      "metadata": {
        "id": "a3650f70"
      },
      "source": [
        ""
      ],
      "id": "a3650f70",
      "execution_count": null,
      "outputs": []
    },
    {
      "cell_type": "code",
      "metadata": {
        "id": "d4b51aa1"
      },
      "source": [
        ""
      ],
      "id": "d4b51aa1",
      "execution_count": null,
      "outputs": []
    },
    {
      "cell_type": "code",
      "metadata": {
        "id": "359fc4ba"
      },
      "source": [
        ""
      ],
      "id": "359fc4ba",
      "execution_count": null,
      "outputs": []
    }
  ]
}